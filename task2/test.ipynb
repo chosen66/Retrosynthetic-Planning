{
 "cells": [
  {
   "cell_type": "code",
   "execution_count": 1,
   "metadata": {},
   "outputs": [],
   "source": [
    "import torch\n",
    "import numpy as np \n",
    "import matplotlib.pyplot as plt"
   ]
  },
  {
   "cell_type": "code",
   "execution_count": 3,
   "metadata": {},
   "outputs": [],
   "source": [
    "# train_data = np.unpackbits(\"../Project for ML/MoleculeEvaluationData/train.pkl.gz\")\n",
    "# test_data = np.unpackbits(\"../Project for ML/MoleculeEvaluationData/test.pkl.gz\")\n",
    "train_data = np.load(\"/media/chosen/3224DA3724D9FDB3/SharedFiles/course/ml/proj/Zhou/Project for ML/MoleculeEvaluationData/train.pkl\", allow_pickle=1)\n",
    "test_data = np.load(\"/media/chosen/3224DA3724D9FDB3/SharedFiles/course/ml/proj/Zhou/Project for ML/MoleculeEvaluationData/test.pkl\", allow_pickle=1)"
   ]
  },
  {
   "cell_type": "code",
   "execution_count": 4,
   "metadata": {},
   "outputs": [
    {
     "data": {
      "text/plain": [
       "398581"
      ]
     },
     "execution_count": 4,
     "metadata": {},
     "output_type": "execute_result"
    }
   ],
   "source": [
    "len(train_data[\"values\"])"
   ]
  },
  {
   "cell_type": "code",
   "execution_count": 15,
   "metadata": {},
   "outputs": [
    {
     "data": {
      "image/png": "[encoded data removed]",
      "text/plain": [
       "<Figure size 640x480 with 2 Axes>"
      ]
     },
     "metadata": {},
     "output_type": "display_data"
    }
   ],
   "source": [
    "left  = 0.125  # the left side of the subplots of the figure\n",
    "right = 1.5    # the right side of the subplots of the figure\n",
    "bottom = 0.1   # the bottom of the subplots of the figure\n",
    "top = 0.9      # the top of the subplots of the figure\n",
    "wspace = 0.8   # the amount of width reserved for blank space between subplots\n",
    "hspace = 0.2   # the amount of height reserved for white space between subplots\n",
    "\n",
    "bins = [i/10 for i in range(200)]\n",
    "ax = plt.subplot(121)\n",
    "ax.set_xlabel(\"value\")\n",
    "ax.set_ylabel(\"frenquency\")\n",
    "y1, x = np.histogram(test_data[\"values\"], bins=bins)\n",
    "x = x[:-1]\n",
    "y1 = y1/sum(y1)\n",
    "plt.plot(x,y1)\n",
    "plt.subplots_adjust(left, bottom, right, top, wspace, hspace)\n",
    "\n",
    "ax = plt.subplot(122)\n",
    "ax.set_xlabel(\"value\")\n",
    "ax.set_ylabel(\"frenquency\")\n",
    "y2,x = np.histogram(train_data[\"values\"], bins=bins)\n",
    "x = x[:-1]\n",
    "y2 = y2/sum(y2)\n",
    "plt.plot(x,y2)\n",
    "\n",
    "\n",
    "plt.savefig(\"difdist.png\")\n"
   ]
  },
  {
   "cell_type": "code",
   "execution_count": 5,
   "metadata": {},
   "outputs": [
    {
     "ename": "KeyboardInterrupt",
     "evalue": "",
     "output_type": "error",
     "traceback": [
      "\u001b[0;31m---------------------------------------------------------------------------\u001b[0m",
      "\u001b[0;31mKeyboardInterrupt\u001b[0m                         Traceback (most recent call last)",
      "Cell \u001b[0;32mIn[5], line 9\u001b[0m\n\u001b[1;32m      7\u001b[0m \u001b[39m# set y-axis name\u001b[39;00m\n\u001b[1;32m      8\u001b[0m ax\u001b[39m.\u001b[39mset_ylabel(\u001b[39m\"\u001b[39m\u001b[39mY-Label\u001b[39m\u001b[39m\"\u001b[39m)\n\u001b[0;32m----> 9\u001b[0m ax\u001b[39m.\u001b[39;49mhist(test_data[\u001b[39m\"\u001b[39;49m\u001b[39mvalues\u001b[39;49m\u001b[39m\"\u001b[39;49m])\n\u001b[1;32m     10\u001b[0m plt\u001b[39m.\u001b[39mshow()\n",
      "File \u001b[0;32m~/anaconda3/lib/python3.8/site-packages/matplotlib/__init__.py:1361\u001b[0m, in \u001b[0;36m_preprocess_data.<locals>.inner\u001b[0;34m(ax, data, *args, **kwargs)\u001b[0m\n\u001b[1;32m   1358\u001b[0m \u001b[39m@functools\u001b[39m\u001b[39m.\u001b[39mwraps(func)\n\u001b[1;32m   1359\u001b[0m \u001b[39mdef\u001b[39;00m \u001b[39minner\u001b[39m(ax, \u001b[39m*\u001b[39margs, data\u001b[39m=\u001b[39m\u001b[39mNone\u001b[39;00m, \u001b[39m*\u001b[39m\u001b[39m*\u001b[39mkwargs):\n\u001b[1;32m   1360\u001b[0m     \u001b[39mif\u001b[39;00m data \u001b[39mis\u001b[39;00m \u001b[39mNone\u001b[39;00m:\n\u001b[0;32m-> 1361\u001b[0m         \u001b[39mreturn\u001b[39;00m func(ax, \u001b[39m*\u001b[39;49m\u001b[39mmap\u001b[39;49m(sanitize_sequence, args), \u001b[39m*\u001b[39;49m\u001b[39m*\u001b[39;49mkwargs)\n\u001b[1;32m   1363\u001b[0m     bound \u001b[39m=\u001b[39m new_sig\u001b[39m.\u001b[39mbind(ax, \u001b[39m*\u001b[39margs, \u001b[39m*\u001b[39m\u001b[39m*\u001b[39mkwargs)\n\u001b[1;32m   1364\u001b[0m     auto_label \u001b[39m=\u001b[39m (bound\u001b[39m.\u001b[39marguments\u001b[39m.\u001b[39mget(label_namer)\n\u001b[1;32m   1365\u001b[0m                   \u001b[39mor\u001b[39;00m bound\u001b[39m.\u001b[39mkwargs\u001b[39m.\u001b[39mget(label_namer))\n",
      "File \u001b[0;32m~/anaconda3/lib/python3.8/site-packages/matplotlib/axes/_axes.py:6818\u001b[0m, in \u001b[0;36mAxes.hist\u001b[0;34m(self, x, bins, range, density, weights, cumulative, bottom, histtype, align, orientation, rwidth, log, color, label, stacked, **kwargs)\u001b[0m\n\u001b[1;32m   6816\u001b[0m \u001b[39melse\u001b[39;00m:\n\u001b[1;32m   6817\u001b[0m     height \u001b[39m=\u001b[39m m\n\u001b[0;32m-> 6818\u001b[0m bars \u001b[39m=\u001b[39m _barfunc(bins[:\u001b[39m-\u001b[39;49m\u001b[39m1\u001b[39;49m]\u001b[39m+\u001b[39;49mboffset, height, width,\n\u001b[1;32m   6819\u001b[0m                 align\u001b[39m=\u001b[39;49m\u001b[39m'\u001b[39;49m\u001b[39mcenter\u001b[39;49m\u001b[39m'\u001b[39;49m, log\u001b[39m=\u001b[39;49mlog,\n\u001b[1;32m   6820\u001b[0m                 color\u001b[39m=\u001b[39;49mc, \u001b[39m*\u001b[39;49m\u001b[39m*\u001b[39;49m{bottom_kwarg: bottom})\n\u001b[1;32m   6821\u001b[0m patches\u001b[39m.\u001b[39mappend(bars)\n\u001b[1;32m   6822\u001b[0m \u001b[39mif\u001b[39;00m stacked:\n",
      "File \u001b[0;32m~/anaconda3/lib/python3.8/site-packages/matplotlib/__init__.py:1361\u001b[0m, in \u001b[0;36m_preprocess_data.<locals>.inner\u001b[0;34m(ax, data, *args, **kwargs)\u001b[0m\n\u001b[1;32m   1358\u001b[0m \u001b[39m@functools\u001b[39m\u001b[39m.\u001b[39mwraps(func)\n\u001b[1;32m   1359\u001b[0m \u001b[39mdef\u001b[39;00m \u001b[39minner\u001b[39m(ax, \u001b[39m*\u001b[39margs, data\u001b[39m=\u001b[39m\u001b[39mNone\u001b[39;00m, \u001b[39m*\u001b[39m\u001b[39m*\u001b[39mkwargs):\n\u001b[1;32m   1360\u001b[0m     \u001b[39mif\u001b[39;00m data \u001b[39mis\u001b[39;00m \u001b[39mNone\u001b[39;00m:\n\u001b[0;32m-> 1361\u001b[0m         \u001b[39mreturn\u001b[39;00m func(ax, \u001b[39m*\u001b[39;49m\u001b[39mmap\u001b[39;49m(sanitize_sequence, args), \u001b[39m*\u001b[39;49m\u001b[39m*\u001b[39;49mkwargs)\n\u001b[1;32m   1363\u001b[0m     bound \u001b[39m=\u001b[39m new_sig\u001b[39m.\u001b[39mbind(ax, \u001b[39m*\u001b[39margs, \u001b[39m*\u001b[39m\u001b[39m*\u001b[39mkwargs)\n\u001b[1;32m   1364\u001b[0m     auto_label \u001b[39m=\u001b[39m (bound\u001b[39m.\u001b[39marguments\u001b[39m.\u001b[39mget(label_namer)\n\u001b[1;32m   1365\u001b[0m                   \u001b[39mor\u001b[39;00m bound\u001b[39m.\u001b[39mkwargs\u001b[39m.\u001b[39mget(label_namer))\n",
      "File \u001b[0;32m~/anaconda3/lib/python3.8/site-packages/matplotlib/axes/_axes.py:2371\u001b[0m, in \u001b[0;36mAxes.bar\u001b[0;34m(self, x, height, width, bottom, align, **kwargs)\u001b[0m\n\u001b[1;32m   2369\u001b[0m     \u001b[39melif\u001b[39;00m orientation \u001b[39m==\u001b[39m \u001b[39m'\u001b[39m\u001b[39mhorizontal\u001b[39m\u001b[39m'\u001b[39m:\n\u001b[1;32m   2370\u001b[0m         r\u001b[39m.\u001b[39msticky_edges\u001b[39m.\u001b[39mx\u001b[39m.\u001b[39mappend(l)\n\u001b[0;32m-> 2371\u001b[0m     \u001b[39mself\u001b[39;49m\u001b[39m.\u001b[39;49madd_patch(r)\n\u001b[1;32m   2372\u001b[0m     patches\u001b[39m.\u001b[39mappend(r)\n\u001b[1;32m   2374\u001b[0m \u001b[39mif\u001b[39;00m xerr \u001b[39mis\u001b[39;00m \u001b[39mnot\u001b[39;00m \u001b[39mNone\u001b[39;00m \u001b[39mor\u001b[39;00m yerr \u001b[39mis\u001b[39;00m \u001b[39mnot\u001b[39;00m \u001b[39mNone\u001b[39;00m:\n",
      "File \u001b[0;32m~/anaconda3/lib/python3.8/site-packages/matplotlib/axes/_base.py:2170\u001b[0m, in \u001b[0;36m_AxesBase.add_patch\u001b[0;34m(self, p)\u001b[0m\n\u001b[1;32m   2168\u001b[0m \u001b[39mif\u001b[39;00m p\u001b[39m.\u001b[39mget_clip_path() \u001b[39mis\u001b[39;00m \u001b[39mNone\u001b[39;00m:\n\u001b[1;32m   2169\u001b[0m     p\u001b[39m.\u001b[39mset_clip_path(\u001b[39mself\u001b[39m\u001b[39m.\u001b[39mpatch)\n\u001b[0;32m-> 2170\u001b[0m \u001b[39mself\u001b[39;49m\u001b[39m.\u001b[39;49m_update_patch_limits(p)\n\u001b[1;32m   2171\u001b[0m \u001b[39mself\u001b[39m\u001b[39m.\u001b[39mpatches\u001b[39m.\u001b[39mappend(p)\n\u001b[1;32m   2172\u001b[0m p\u001b[39m.\u001b[39m_remove_method \u001b[39m=\u001b[39m \u001b[39mself\u001b[39m\u001b[39m.\u001b[39mpatches\u001b[39m.\u001b[39mremove\n",
      "File \u001b[0;32m~/anaconda3/lib/python3.8/site-packages/matplotlib/axes/_base.py:2192\u001b[0m, in \u001b[0;36m_AxesBase._update_patch_limits\u001b[0;34m(self, patch)\u001b[0m\n\u001b[1;32m   2189\u001b[0m vertices \u001b[39m=\u001b[39m p\u001b[39m.\u001b[39mvertices \u001b[39mif\u001b[39;00m p\u001b[39m.\u001b[39mcodes \u001b[39mis\u001b[39;00m \u001b[39mNone\u001b[39;00m \u001b[39melse\u001b[39;00m p\u001b[39m.\u001b[39mvertices[np\u001b[39m.\u001b[39misin(\n\u001b[1;32m   2190\u001b[0m     p\u001b[39m.\u001b[39mcodes, (mpath\u001b[39m.\u001b[39mPath\u001b[39m.\u001b[39mCLOSEPOLY, mpath\u001b[39m.\u001b[39mPath\u001b[39m.\u001b[39mSTOP), invert\u001b[39m=\u001b[39m\u001b[39mTrue\u001b[39;00m)]\n\u001b[1;32m   2191\u001b[0m \u001b[39mif\u001b[39;00m vertices\u001b[39m.\u001b[39msize \u001b[39m>\u001b[39m \u001b[39m0\u001b[39m:\n\u001b[0;32m-> 2192\u001b[0m     xys \u001b[39m=\u001b[39m patch\u001b[39m.\u001b[39;49mget_patch_transform()\u001b[39m.\u001b[39mtransform(vertices)\n\u001b[1;32m   2193\u001b[0m     \u001b[39mif\u001b[39;00m patch\u001b[39m.\u001b[39mget_data_transform() \u001b[39m!=\u001b[39m \u001b[39mself\u001b[39m\u001b[39m.\u001b[39mtransData:\n\u001b[1;32m   2194\u001b[0m         patch_to_data \u001b[39m=\u001b[39m (patch\u001b[39m.\u001b[39mget_data_transform() \u001b[39m-\u001b[39m\n\u001b[1;32m   2195\u001b[0m                          \u001b[39mself\u001b[39m\u001b[39m.\u001b[39mtransData)\n",
      "File \u001b[0;32m~/anaconda3/lib/python3.8/site-packages/matplotlib/patches.py:777\u001b[0m, in \u001b[0;36mRectangle.get_patch_transform\u001b[0;34m(self)\u001b[0m\n\u001b[1;32m    772\u001b[0m \u001b[39mdef\u001b[39;00m \u001b[39mget_patch_transform\u001b[39m(\u001b[39mself\u001b[39m):\n\u001b[1;32m    773\u001b[0m     \u001b[39m# Note: This cannot be called until after this has been added to\u001b[39;00m\n\u001b[1;32m    774\u001b[0m     \u001b[39m# an Axes, otherwise unit conversion will fail. This makes it very\u001b[39;00m\n\u001b[1;32m    775\u001b[0m     \u001b[39m# important to call the accessor method and not directly access the\u001b[39;00m\n\u001b[1;32m    776\u001b[0m     \u001b[39m# transformation member variable.\u001b[39;00m\n\u001b[0;32m--> 777\u001b[0m     bbox \u001b[39m=\u001b[39m \u001b[39mself\u001b[39;49m\u001b[39m.\u001b[39;49mget_bbox()\n\u001b[1;32m    778\u001b[0m     \u001b[39mreturn\u001b[39;00m (transforms\u001b[39m.\u001b[39mBboxTransformTo(bbox)\n\u001b[1;32m    779\u001b[0m             \u001b[39m+\u001b[39m transforms\u001b[39m.\u001b[39mAffine2D()\u001b[39m.\u001b[39mrotate_deg_around(\n\u001b[1;32m    780\u001b[0m                 bbox\u001b[39m.\u001b[39mx0, bbox\u001b[39m.\u001b[39my0, \u001b[39mself\u001b[39m\u001b[39m.\u001b[39mangle))\n",
      "File \u001b[0;32m~/anaconda3/lib/python3.8/site-packages/matplotlib/patches.py:856\u001b[0m, in \u001b[0;36mRectangle.get_bbox\u001b[0;34m(self)\u001b[0m\n\u001b[1;32m    854\u001b[0m \u001b[39mdef\u001b[39;00m \u001b[39mget_bbox\u001b[39m(\u001b[39mself\u001b[39m):\n\u001b[1;32m    855\u001b[0m     \u001b[39m\"\"\"Return the `.Bbox`.\"\"\"\u001b[39;00m\n\u001b[0;32m--> 856\u001b[0m     x0, y0, x1, y1 \u001b[39m=\u001b[39m \u001b[39mself\u001b[39;49m\u001b[39m.\u001b[39;49m_convert_units()\n\u001b[1;32m    857\u001b[0m     \u001b[39mreturn\u001b[39;00m transforms\u001b[39m.\u001b[39mBbox\u001b[39m.\u001b[39mfrom_extents(x0, y0, x1, y1)\n",
      "File \u001b[0;32m~/anaconda3/lib/python3.8/site-packages/matplotlib/patches.py:766\u001b[0m, in \u001b[0;36mRectangle._convert_units\u001b[0;34m(self)\u001b[0m\n\u001b[1;32m    764\u001b[0m \u001b[39mdef\u001b[39;00m \u001b[39m_convert_units\u001b[39m(\u001b[39mself\u001b[39m):\n\u001b[1;32m    765\u001b[0m     \u001b[39m\"\"\"Convert bounds of the rectangle.\"\"\"\u001b[39;00m\n\u001b[0;32m--> 766\u001b[0m     x0 \u001b[39m=\u001b[39m \u001b[39mself\u001b[39;49m\u001b[39m.\u001b[39;49mconvert_xunits(\u001b[39mself\u001b[39;49m\u001b[39m.\u001b[39;49m_x0)\n\u001b[1;32m    767\u001b[0m     y0 \u001b[39m=\u001b[39m \u001b[39mself\u001b[39m\u001b[39m.\u001b[39mconvert_yunits(\u001b[39mself\u001b[39m\u001b[39m.\u001b[39m_y0)\n\u001b[1;32m    768\u001b[0m     x1 \u001b[39m=\u001b[39m \u001b[39mself\u001b[39m\u001b[39m.\u001b[39mconvert_xunits(\u001b[39mself\u001b[39m\u001b[39m.\u001b[39m_x0 \u001b[39m+\u001b[39m \u001b[39mself\u001b[39m\u001b[39m.\u001b[39m_width)\n",
      "File \u001b[0;32m~/anaconda3/lib/python3.8/site-packages/matplotlib/artist.py:203\u001b[0m, in \u001b[0;36mArtist.convert_xunits\u001b[0;34m(self, x)\u001b[0m\n\u001b[1;32m    201\u001b[0m \u001b[39mif\u001b[39;00m ax \u001b[39mis\u001b[39;00m \u001b[39mNone\u001b[39;00m \u001b[39mor\u001b[39;00m ax\u001b[39m.\u001b[39mxaxis \u001b[39mis\u001b[39;00m \u001b[39mNone\u001b[39;00m:\n\u001b[1;32m    202\u001b[0m     \u001b[39mreturn\u001b[39;00m x\n\u001b[0;32m--> 203\u001b[0m \u001b[39mreturn\u001b[39;00m ax\u001b[39m.\u001b[39;49mxaxis\u001b[39m.\u001b[39;49mconvert_units(x)\n",
      "File \u001b[0;32m~/anaconda3/lib/python3.8/site-packages/matplotlib/axis.py:1491\u001b[0m, in \u001b[0;36mAxis.convert_units\u001b[0;34m(self, x)\u001b[0m\n\u001b[1;32m   1489\u001b[0m \u001b[39mdef\u001b[39;00m \u001b[39mconvert_units\u001b[39m(\u001b[39mself\u001b[39m, x):\n\u001b[1;32m   1490\u001b[0m     \u001b[39m# If x is natively supported by Matplotlib, doesn't need converting\u001b[39;00m\n\u001b[0;32m-> 1491\u001b[0m     \u001b[39mif\u001b[39;00m munits\u001b[39m.\u001b[39;49m_is_natively_supported(x):\n\u001b[1;32m   1492\u001b[0m         \u001b[39mreturn\u001b[39;00m x\n\u001b[1;32m   1494\u001b[0m     \u001b[39mif\u001b[39;00m \u001b[39mself\u001b[39m\u001b[39m.\u001b[39mconverter \u001b[39mis\u001b[39;00m \u001b[39mNone\u001b[39;00m:\n",
      "File \u001b[0;32m~/anaconda3/lib/python3.8/site-packages/matplotlib/units.py:64\u001b[0m, in \u001b[0;36m_is_natively_supported\u001b[0;34m(x)\u001b[0m\n\u001b[1;32m     59\u001b[0m \u001b[39m\"\"\"\u001b[39;00m\n\u001b[1;32m     60\u001b[0m \u001b[39mReturn whether *x* is of a type that Matplotlib natively supports or an\u001b[39;00m\n\u001b[1;32m     61\u001b[0m \u001b[39marray of objects of such types.\u001b[39;00m\n\u001b[1;32m     62\u001b[0m \u001b[39m\"\"\"\u001b[39;00m\n\u001b[1;32m     63\u001b[0m \u001b[39m# Matplotlib natively supports all number types except Decimal.\u001b[39;00m\n\u001b[0;32m---> 64\u001b[0m \u001b[39mif\u001b[39;00m np\u001b[39m.\u001b[39;49miterable(x):\n\u001b[1;32m     65\u001b[0m     \u001b[39m# Assume lists are homogeneous as other functions in unit system.\u001b[39;00m\n\u001b[1;32m     66\u001b[0m     \u001b[39mfor\u001b[39;00m thisx \u001b[39min\u001b[39;00m x:\n\u001b[1;32m     67\u001b[0m         \u001b[39mif\u001b[39;00m thisx \u001b[39mis\u001b[39;00m ma\u001b[39m.\u001b[39mmasked:\n",
      "File \u001b[0;32m~/anaconda3/lib/python3.8/site-packages/numpy/lib/function_base.py:269\u001b[0m, in \u001b[0;36miterable\u001b[0;34m(y)\u001b[0m\n\u001b[1;32m    244\u001b[0m \u001b[39m@set_module\u001b[39m(\u001b[39m'\u001b[39m\u001b[39mnumpy\u001b[39m\u001b[39m'\u001b[39m)\n\u001b[1;32m    245\u001b[0m \u001b[39mdef\u001b[39;00m \u001b[39miterable\u001b[39m(y):\n\u001b[1;32m    246\u001b[0m     \u001b[39m\"\"\"\u001b[39;00m\n\u001b[1;32m    247\u001b[0m \u001b[39m    Check whether or not an object can be iterated over.\u001b[39;00m\n\u001b[1;32m    248\u001b[0m \n\u001b[0;32m   (...)\u001b[0m\n\u001b[1;32m    267\u001b[0m \n\u001b[1;32m    268\u001b[0m \u001b[39m    \"\"\"\u001b[39;00m\n\u001b[0;32m--> 269\u001b[0m     \u001b[39mtry\u001b[39;00m:\n\u001b[1;32m    270\u001b[0m         \u001b[39miter\u001b[39m(y)\n\u001b[1;32m    271\u001b[0m     \u001b[39mexcept\u001b[39;00m \u001b[39mTypeError\u001b[39;00m:\n",
      "\u001b[0;31mKeyboardInterrupt\u001b[0m: "
     ]
    }
   ],
   "source": [
    "# define window size, output and axes\n",
    "fig, ax = plt.subplots(figsize=[8,6])\n",
    "# set plot title\n",
    "ax.set_title(\"Some title\")\n",
    "# set x-axis name\n",
    "ax.set_xlabel(\"X-Label\")\n",
    "# set y-axis name\n",
    "ax.set_ylabel(\"Y-Label\")\n",
    "ax.hist(test_data[\"values\"])\n",
    "plt.show()"
   ]
  },
  {
   "cell_type": "code",
   "execution_count": 81,
   "metadata": {},
   "outputs": [
    {
     "name": "stdout",
     "output_type": "stream",
     "text": [
      "train, min 0.00, max 44.67, mean 0.46, std 1.27\n",
      " test min 0.00, max 45.20, mean 1.93, std 3.10\n"
     ]
    }
   ],
   "source": [
    "print(\"train, min %0.2f, max %0.2f, mean %0.2f, std %0.2f\\n test min %0.2f, max %0.2f, mean %0.2f, std %0.2f\" %\\\n",
    "      (train_data[\"values\"].min(), train_data[\"values\"].max(), train_data[\"values\"].mean(), train_data[\"values\"].std(), \\\n",
    "        test_data[\"values\"].min(), test_data[\"values\"].max(), test_data[\"values\"].mean(), test_data[\"values\"].std()  ))"
   ]
  },
  {
   "cell_type": "code",
   "execution_count": 40,
   "metadata": {},
   "outputs": [
    {
     "data": {
      "text/plain": [
       "(3188648, 256)"
      ]
     },
     "execution_count": 40,
     "metadata": {},
     "output_type": "execute_result"
    }
   ],
   "source": [
    "np.unpackbits(train_data[\"packed_fp\"], axis=0).shape"
   ]
  },
  {
   "cell_type": "code",
   "execution_count": 46,
   "metadata": {},
   "outputs": [
    {
     "data": {
      "text/plain": [
       "torch.float32"
      ]
     },
     "execution_count": 46,
     "metadata": {},
     "output_type": "execute_result"
    }
   ],
   "source": [
    "a = np.array([[1,0,0],[2,0,0]], dtype=np.uint8)\n",
    "b = torch.Tensor(np.unpackbits(a, axis=1))\n",
    "b.dtype"
   ]
  },
  {
   "cell_type": "code",
   "execution_count": 53,
   "metadata": {},
   "outputs": [
    {
     "ename": "AttributeError",
     "evalue": "module 'torch' has no attribute 'Variable'",
     "output_type": "error",
     "traceback": [
      "\u001b[0;31m---------------------------------------------------------------------------\u001b[0m",
      "\u001b[0;31mAttributeError\u001b[0m                            Traceback (most recent call last)",
      "Cell \u001b[0;32mIn[53], line 1\u001b[0m\n\u001b[0;32m----> 1\u001b[0m t \u001b[39m=\u001b[39m torch\u001b[39m.\u001b[39;49mVariable(\u001b[39m10\u001b[39m)\n",
      "\u001b[0;31mAttributeError\u001b[0m: module 'torch' has no attribute 'Variable'"
     ]
    }
   ],
   "source": [
    "t = torch.Variable(10)"
   ]
  },
  {
   "cell_type": "code",
   "execution_count": 54,
   "metadata": {},
   "outputs": [],
   "source": [
    "from argparse import ArgumentParser\n",
    "import torch\n",
    "from torch import nn\n",
    "from torch.utils.data import DataLoader\n",
    "from utils import Dataset2, MLP, mkdir_p\n",
    "from dgllife.utils import EarlyStopping\n"
   ]
  },
  {
   "cell_type": "code",
   "execution_count": 55,
   "metadata": {},
   "outputs": [],
   "source": [
    "DATASET_DIR = \"../Project for ML/MoleculeEvaluationData/\"\n",
    "train_data = Dataset2(DATASET_DIR + \"train.pkl\")\n",
    "train_loader = DataLoader(train_data, batch_size=64)\n",
    "test_data = Dataset2(DATASET_DIR + \"test.pkl\", y_sigma=train_data.y_sigma, y_miu=train_data.y_miu)\n",
    "test_loader = DataLoader(test_data, batch_size=64)"
   ]
  },
  {
   "cell_type": "code",
   "execution_count": 74,
   "metadata": {},
   "outputs": [
    {
     "data": {
      "text/plain": [
       "tensor(44.6692)"
      ]
     },
     "execution_count": 74,
     "metadata": {},
     "output_type": "execute_result"
    }
   ],
   "source": [
    "train_data.ground_truth.max()"
   ]
  },
  {
   "cell_type": "code",
   "execution_count": null,
   "metadata": {},
   "outputs": [],
   "source": []
  }
 ],
 "metadata": {
  "kernelspec": {
   "display_name": "base",
   "language": "python",
   "name": "python3"
  },
  "language_info": {
   "codemirror_mode": {
    "name": "ipython",
    "version": 3
   },
   "file_extension": ".py",
   "mimetype": "text/x-python",
   "name": "python",
   "nbconvert_exporter": "python",
   "pygments_lexer": "ipython3",
   "version": "3.8.16"
  },
  "orig_nbformat": 4
 },
 "nbformat": 4,
 "nbformat_minor": 2
}
